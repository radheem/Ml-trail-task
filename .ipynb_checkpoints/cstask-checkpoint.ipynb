{
 "cells": [
  {
   "cell_type": "code",
   "execution_count": 1,
   "metadata": {},
   "outputs": [],
   "source": [
    "#import packages\n",
    "\n",
    "import numpy as np  \n",
    "import pandas as pd\n",
    "from sklearn import preprocessing\n",
    "from sklearn.metrics import classification_report, confusion_matrix, f1_score\n",
    "from sklearn.preprocessing import StandardScaler, MinMaxScaler,LabelEncoder\n",
    "from sklearn.model_selection import train_test_split\n",
    "from sklearn.model_selection import cross_val_score\n",
    "from sklearn.model_selection import GridSearchCV\n",
    "import warnings                        # To ignore any warnings\n",
    "warnings.filterwarnings(\"ignore\")\n",
    "\n",
    "# # classifiers\n",
    "# from sklearn.ensemble import RandomForestClassifier\n",
    "# from sklearn.neighbors import KNeighborsClassifier\n",
    "# from sklearn.ensemble import GradientBoostingClassifier\n",
    "# from sklearn.tree import DecisionTreeClassifier\n",
    "# from sklearn.linear_model import LogisticRegression\n",
    "# from sklearn.ensemble import BaggingClassifier\n",
    "# from sklearn.ensemble import ExtraTreesClassifier\n",
    "# from xgboost import XGBClassifier\n",
    "# from imblearn.ensemble import (\n",
    "#     BalancedBaggingClassifier,\n",
    "#     EasyEnsembleClassifier,\n",
    "# )\n",
    "\n",
    "import os\n",
    "import logging\n",
    "\n",
    "np.random.seed(123)"
   ]
  },
  {
   "cell_type": "code",
   "execution_count": 4,
   "metadata": {},
   "outputs": [
    {
     "name": "stdout",
     "output_type": "stream",
     "text": [
      "MinTemp            637\n",
      "MaxTemp            322\n",
      "Rainfall          1406\n",
      "Evaporation      60843\n",
      "Sunshine         67816\n",
      "WindGustDir       9330\n",
      "WindGustSpeed     9270\n",
      "WindDir9am       10013\n",
      "WindDir3pm        3778\n",
      "WindSpeed9am      1348\n",
      "WindSpeed3pm      2630\n",
      "Humidity9am       1774\n",
      "Humidity3pm       3610\n",
      "Pressure9am      14014\n",
      "Pressure3pm      13981\n",
      "Cloud9am         53657\n",
      "Cloud3pm         57094\n",
      "Temp9am            904\n",
      "Temp3pm           2726\n",
      "RainToday         1406\n",
      "RISK_MM              0\n",
      "RainTomorrow         0\n",
      "dtype: int64\n"
     ]
    }
   ],
   "source": [
    "data = pd.read_csv(\"data/weatherAUS.csv\")\n",
    "data = data.set_index(keys=[\"Location\",\"Date\"])\n",
    "print(data.isnull().sum())"
   ]
  },
  {
   "cell_type": "code",
   "execution_count": 12,
   "metadata": {},
   "outputs": [],
   "source": [
    "def preprocessing(data):\n",
    "    y = 0.5*(data[\"MinTemp\"]+data[\"MaxTemp\"])\n",
    "    data[\"AvgTemp\"] = y\n",
    "    df = data[[\"MinTemp\",\"MaxTemp\",\"AvgTemp\"]]\n",
    "    df = df.interpolate()\n",
    "    return df\n"
   ]
  },
  {
   "cell_type": "code",
   "execution_count": 13,
   "metadata": {},
   "outputs": [],
   "source": [
    "x = preprocessing(data)"
   ]
  },
  {
   "cell_type": "code",
   "execution_count": 14,
   "metadata": {},
   "outputs": [
    {
     "data": {
      "text/plain": [
       "<matplotlib.axes._subplots.AxesSubplot at 0x28c2b15d248>"
      ]
     },
     "execution_count": 14,
     "metadata": {},
     "output_type": "execute_result"
    },
    {
     "data": {
      "image/png": "[encoded data removed]",
      "text/plain": [
       "<Figure size 432x288 with 1 Axes>"
      ]
     },
     "metadata": {
      "needs_background": "light"
     },
     "output_type": "display_data"
    }
   ],
   "source": [
    "x.plot.scatter(x=\"MinTemp\",y=\"AvgTemp\")"
   ]
  },
  {
   "cell_type": "code",
   "execution_count": 15,
   "metadata": {},
   "outputs": [
    {
     "data": {
      "text/plain": [
       "<matplotlib.axes._subplots.AxesSubplot at 0x28c2b1c71c8>"
      ]
     },
     "execution_count": 15,
     "metadata": {},
     "output_type": "execute_result"
    },
    {
     "data": {
      "image/png": "[encoded data removed]",
      "text/plain": [
       "<Figure size 432x288 with 1 Axes>"
      ]
     },
     "metadata": {
      "needs_background": "light"
     },
     "output_type": "display_data"
    }
   ],
   "source": [
    "x.plot.scatter(x=\"MaxTemp\",y=\"AvgTemp\")"
   ]
  },
  {
   "cell_type": "code",
   "execution_count": 11,
   "metadata": {},
   "outputs": [],
   "source": [
    "def log(path, file):\n",
    "    \"\"\"[Create a log file to record the experiment's logs]\n",
    "    \n",
    "    Arguments:\n",
    "        path {string} -- path to the directory\n",
    "        file {string} -- file name\n",
    "    \n",
    "    Returns:\n",
    "        [obj] -- [logger that record logs]\n",
    "    \"\"\"\n",
    "\n",
    "    # check if the file exist\n",
    "    log_file = os.path.join(path, file)\n",
    "\n",
    "    if not os.path.isfile(log_file):\n",
    "        open(log_file, \"w+\").close()\n",
    "\n",
    "    console_logging_format = \"%(levelname)s %(message)s\"\n",
    "    file_logging_format = \"%(levelname)s: %(asctime)s: %(message)s\"\n",
    "\n",
    "    # configure logger\n",
    "    logging.basicConfig(level=logging.INFO, format=console_logging_format)\n",
    "    logger = logging.getLogger()\n",
    "    \n",
    "    # create a file handler for output file\n",
    "    handler = logging.FileHandler(log_file)\n",
    "\n",
    "    # set the logging level for log file\n",
    "    handler.setLevel(logging.INFO)\n",
    "    \n",
    "    # create a logging format\n",
    "    formatter = logging.Formatter(file_logging_format)\n",
    "    handler.setFormatter(formatter)\n",
    "\n",
    "    # add the handlers to the logger\n",
    "    logger.addHandler(handler)\n",
    "\n",
    "    return logger"
   ]
  },
  {
   "cell_type": "code",
   "execution_count": 12,
   "metadata": {},
   "outputs": [
    {
     "name": "stderr",
     "output_type": "stream",
     "text": [
      "INFO Start Cross Validation\n",
      "INFO Train KNN\n",
      "INFO The mean score for KNN: 0.730\n",
      "INFO -------------------------------\n",
      "INFO Train RF\n",
      "INFO The mean score for RF: 0.772\n",
      "INFO -------------------------------\n",
      "INFO Train GB\n",
      "INFO The mean score for GB: 0.777\n",
      "INFO -------------------------------\n",
      "INFO Train DTC\n",
      "INFO The mean score for DTC: 0.714\n",
      "INFO -------------------------------\n",
      "INFO Train BC\n",
      "INFO The mean score for BC: 0.764\n",
      "INFO -------------------------------\n",
      "INFO Train XGB\n",
      "INFO The mean score for XGB: 0.762\n",
      "INFO -------------------------------\n",
      "INFO Train EXT\n",
      "INFO The mean score for EXT: 0.756\n",
      "INFO -------------------------------\n",
      "INFO Train LG\n",
      "INFO The mean score for LG: 0.810\n",
      "INFO -------------------------------\n",
      "INFO Train BBC\n",
      "INFO The mean score for BBC: 0.705\n",
      "INFO -------------------------------\n",
      "INFO Train EEC\n",
      "INFO The mean score for EEC: 0.707\n",
      "INFO -------------------------------\n",
      "INFO Cross Validation Ends\n"
     ]
    }
   ],
   "source": [
    "# set a logger file\n",
    "logger = log(path=\"logs/\", file=\"cross_val.logs\")\n",
    "\n",
    "#load dataset \n",
    "\n",
    "data = pd.read_csv(\"data/loans_data.csv\")\n",
    "\n",
    "# preprocessing the loan data \n",
    "\n",
    "data = preprocessing(data)\n",
    "\n",
    "\n",
    "# split data into train and test\n",
    "X = data.drop('Loan_Status',axis = 1)\n",
    "y = data.Loan_Status\n",
    "\n",
    "# create a dictionary for  classifiers \n",
    "models = {\n",
    "    \"LinearReg\": LinearRegression()\n",
    "}\n",
    "\n",
    "logger.info(\"Start Cross Validation\")\n",
    "\n",
    "for model_name, model in models.items():\n",
    "    logger.info(\"Train {}\".format(model_name))\n",
    "  \n",
    "  # cross_val_score for each classifier\n",
    "    scores = cross_val_score(model, X, y, cv=10, scoring = 'accuracy')\n",
    "  \n",
    "    logger.info(\"The mean score for {}: {:.3f}\".format(model_name, scores.mean()))\n",
    "  \n",
    "    logger.info(\"-------------------------------\")\n",
    "      \n",
    "\n",
    "logger.info(\"Cross Validation Ends\")  "
   ]
  },
  {
   "cell_type": "code",
   "execution_count": null,
   "metadata": {},
   "outputs": [],
   "source": []
  }
 ],
 "metadata": {
  "kernelspec": {
   "display_name": "Python 3.7.5 64-bit",
   "language": "python",
   "name": "python37564bit88380ad151a64614b3411a8a1d6791f3"
  },
  "language_info": {
   "codemirror_mode": {
    "name": "ipython",
    "version": 3
   },
   "file_extension": ".py",
   "mimetype": "text/x-python",
   "name": "python",
   "nbconvert_exporter": "python",
   "pygments_lexer": "ipython3",
   "version": "3.7.5"
  }
 },
 "nbformat": 4,
 "nbformat_minor": 2
}
